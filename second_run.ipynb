{
 "cells": [
  {
   "cell_type": "markdown",
   "metadata": {},
   "source": [
    "### Second Step - Time-Series Prediction using Transformer"
   ]
  },
  {
   "cell_type": "code",
   "execution_count": 1,
   "metadata": {},
   "outputs": [],
   "source": [
    "import time\n",
    "import math\n",
    "import torch\n",
    "import torch.nn as nn\n",
    "from sklearn.preprocessing import MinMaxScaler\n",
    "\n",
    "from utils.ML import time_series_dataframe, make_dataframe\n",
    "from utils.DL import new_multistep_time_series, plot_and_loss2\n",
    "from utils.DL import train_tmp, evaluate2\n",
    "from utils.DL import TransAm"
   ]
  },
  {
   "cell_type": "code",
   "execution_count": 7,
   "metadata": {},
   "outputs": [],
   "source": [
    "# Hyper Parameters\n",
    "input_window = 240\n",
    "output_window = 120\n",
    "epochs = 500\n",
    "batch_size = 1024\n",
    "lr = 0.001\n",
    "\n",
    "device = 'cuda' if torch.cuda.is_available else 'cpu'"
   ]
  },
  {
   "cell_type": "code",
   "execution_count": 3,
   "metadata": {},
   "outputs": [
    {
     "name": "stdout",
     "output_type": "stream",
     "text": [
      ">>> Load Dataset!\n",
      "X_train Shape : torch.Size([529564, 2, 240])\n",
      "X_test Shape : torch.Size([132122, 2, 240])\n",
      ">>> Successfully load dataset!\n"
     ]
    }
   ],
   "source": [
    "##### Load Dataset #####\n",
    "print(f'>>> Load Dataset!')\n",
    "\n",
    "df_DL, _, _ = time_series_dataframe('./temp_add_gps/')\n",
    "\n",
    "df_DL_temp = df_DL['TEMP'].values\n",
    "df_DL_label = df_DL['label'].values\n",
    "\n",
    "# Preprocessing\n",
    "scaler_train = MinMaxScaler()\n",
    "scaler_test = MinMaxScaler()\n",
    "\n",
    "train_len = int(len(df_DL) * 0.8)\n",
    "\n",
    "train_data = df_DL_temp[:train_len]\n",
    "train_label = df_DL_label[:train_len]\n",
    "test_data = df_DL_temp[train_len:]\n",
    "test_label = df_DL_label[train_len:]\n",
    "\n",
    "train_data = scaler_train.fit_transform(train_data.reshape(-1,1)).reshape(-1)\n",
    "test_data = scaler_test.fit_transform(test_data.reshape(-1,1)).reshape(-1)\n",
    "\n",
    "train_data, _ = new_multistep_time_series(train_data, train_label, input_window, output_window)\n",
    "test_data, test_label = new_multistep_time_series(test_data, test_label, input_window, output_window)\n",
    "\n",
    "train_data = train_data.to(device)\n",
    "test_data = test_data.to(device)\n",
    "\n",
    "print(f'X_train Shape : {train_data.shape}')\n",
    "print(f'X_test Shape : {test_data.shape}')\n",
    "print(f'>>> Successfully load dataset!')"
   ]
  },
  {
   "cell_type": "code",
   "execution_count": 4,
   "metadata": {},
   "outputs": [
    {
     "name": "stdout",
     "output_type": "stream",
     "text": [
      ">>> Load Model!\n",
      ">>> Successfully load model!\n"
     ]
    }
   ],
   "source": [
    "##### Load Model ######\n",
    "print(f'>>> Load Model!')\n",
    "\n",
    "model = TransAm().to(device)\n",
    "criterion = nn.MSELoss()\n",
    "optimizer = torch.optim.Adam(params = model.parameters(), lr=lr)\n",
    "scheduler = torch.optim.lr_scheduler.StepLR(optimizer, 1.0, gamma=0.98)\n",
    "\n",
    "print(f'>>> Successfully load model!')"
   ]
  },
  {
   "cell_type": "code",
   "execution_count": null,
   "metadata": {},
   "outputs": [],
   "source": [
    "##### Train & Test #####\n",
    "best_val_loss = float(\"inf\")\n",
    "best_model = None\n",
    "\n",
    "for epoch in range(1, epochs + 1):\n",
    "    start_time = time.time()\n",
    "    train_tmp(model, train_data, batch_size, optimizer, criterion, input_window, output_window, epoch, scheduler)\n",
    "    \n",
    "    if (epoch % 20 == 0):\n",
    "        truth, test_result, result_to_ML, val_loss = plot_and_loss2(model, test_data, criterion,input_window, output_window, scaler_test)\n",
    "    else:\n",
    "        val_loss = evaluate2(model, test_data, criterion, output_window, input_window)\n",
    "    \n",
    "    print('-' * 90)\n",
    "    print('| end of epoch {:3d} | time: {:5.2f}s | valid loss {:5.5f} | valid ppl {:8.2f} |'.format(epoch, (time.time() - start_time),\n",
    "                                        val_loss, math.exp(val_loss)))\n",
    "    print('-' * 90)\n",
    "    \n",
    "    scheduler.step()\n",
    "    \n",
    "\n",
    "PATH = \"./checkpoints/\"\n",
    "torch.save(model, PATH + 'prediction_model.pt')\n",
    "torch.save(model.state_dict(), PATH + 'prediction_model_state_dict.pt')"
   ]
  }
 ],
 "metadata": {
  "kernelspec": {
   "display_name": "env_torch",
   "language": "python",
   "name": "python3"
  },
  "language_info": {
   "codemirror_mode": {
    "name": "ipython",
    "version": 3
   },
   "file_extension": ".py",
   "mimetype": "text/x-python",
   "name": "python",
   "nbconvert_exporter": "python",
   "pygments_lexer": "ipython3",
   "version": "3.12.7"
  }
 },
 "nbformat": 4,
 "nbformat_minor": 2
}
