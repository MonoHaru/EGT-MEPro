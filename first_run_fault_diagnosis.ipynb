{
 "cells": [
  {
   "cell_type": "markdown",
   "metadata": {},
   "source": [
    "### First Step - Fault Diagnositics using Machine Learning"
   ]
  },
  {
   "cell_type": "code",
   "execution_count": 1,
   "metadata": {},
   "outputs": [],
   "source": [
    "from sklearn.model_selection import train_test_split\n",
    "from sklearn.ensemble import RandomForestClassifier\n",
    "from sklearn.preprocessing import MinMaxScaler\n",
    "from sklearn.metrics import accuracy_score\n",
    "\n",
    "from utils.ML import make_dataframe"
   ]
  },
  {
   "cell_type": "code",
   "execution_count": 3,
   "metadata": {},
   "outputs": [
    {
     "name": "stdout",
     "output_type": "stream",
     "text": [
      ">>> Load Dataset!\n",
      "X_train Shape : (13296, 9)\n",
      "X_test Shape : (3325, 9)\n",
      ">>> Successfully load dataset!\n"
     ]
    }
   ],
   "source": [
    "##### Load Dataset ######\n",
    "print(f'>>> Load Dataset!')\n",
    "\n",
    "df_ML = make_dataframe(path_temp_gps='./temp_add_gps/',\n",
    "                       window_size=120,\n",
    "                       stride=40)\n",
    "\n",
    "X = df_ML.iloc[:, :9].values\n",
    "y = df_ML['label'].values\n",
    "\n",
    "# Data Split\n",
    "X_train, X_test, y_train, y_test = train_test_split(X, y, test_size = 0.2, random_state = 42, shuffle = True)\n",
    "\n",
    "# Preprocessing\n",
    "scaler = MinMaxScaler()\n",
    "X_train_scaled = scaler.fit_transform(X_train)\n",
    "x_test_scaled = scaler.transform(X_test)\n",
    "\n",
    "print(f'X_train Shape : {X_train_scaled.shape}')\n",
    "print(f'X_test Shape : {x_test_scaled.shape}')\n",
    "print(f'>>> Successfully load dataset!')"
   ]
  },
  {
   "cell_type": "code",
   "execution_count": 5,
   "metadata": {},
   "outputs": [
    {
     "name": "stdout",
     "output_type": "stream",
     "text": [
      ">>> Load Model!\n",
      ">>> Successfully load model!\n"
     ]
    }
   ],
   "source": [
    "##### Load Model ######\n",
    "print(f'>>> Load Model!')\n",
    "\n",
    "RFC = RandomForestClassifier(n_estimators=50, \n",
    "                             max_depth = 30, \n",
    "                             random_state = 42, \n",
    "                             min_samples_leaf=8, \n",
    "                             min_samples_split=8)\n",
    "\n",
    "print(f'>>> Successfully load model!')"
   ]
  },
  {
   "cell_type": "code",
   "execution_count": 7,
   "metadata": {},
   "outputs": [
    {
     "name": "stdout",
     "output_type": "stream",
     "text": [
      "Random Forest Classifier Precition Accuracy :  0.9121804511278195\n"
     ]
    }
   ],
   "source": [
    "##### Train & Test ######\n",
    "\n",
    "RFC.fit(X_train_scaled, y_train)\n",
    "RFC_predict = RFC.predict(x_test_scaled)\n",
    "RFC_acc = accuracy_score(y_test, RFC_predict)\n",
    "\n",
    "print(\"Random Forest Classifier Precition Accuracy : \", RFC_acc)"
   ]
  }
 ],
 "metadata": {
  "kernelspec": {
   "display_name": "env_torch",
   "language": "python",
   "name": "python3"
  },
  "language_info": {
   "codemirror_mode": {
    "name": "ipython",
    "version": 3
   },
   "file_extension": ".py",
   "mimetype": "text/x-python",
   "name": "python",
   "nbconvert_exporter": "python",
   "pygments_lexer": "ipython3",
   "version": "3.12.7"
  }
 },
 "nbformat": 4,
 "nbformat_minor": 2
}
